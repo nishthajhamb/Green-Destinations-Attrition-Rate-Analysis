{
 "cells": [
  {
   "cell_type": "markdown",
   "id": "4662cdb3-1198-44f3-87e5-56f2247f9d49",
   "metadata": {},
   "source": [
    "Calculate the attrition rate from a dataset using pandas. It includes loading the data, exploring it, handling any missing values, and finally calculating the attrition rate.\n",
    "\n",
    "Attrition Rate Analysis\n",
    "\n",
    "Answer in chat instead\n",
    "This code will:\n",
    "\n",
    "Load the dataset.\n",
    "Explore it to ensure the necessary column (Attrition) exists.\n",
    "Handle any missing values.\n",
    "Calculate the attrition rate.\n",
    "Save the summary as a CSV file for documentation."
   ]
  },
  {
   "cell_type": "code",
   "execution_count": 5,
   "id": "b84abac6-83fb-4eee-bb2c-f51192fed3e1",
   "metadata": {},
   "outputs": [
    {
     "name": "stdout",
     "output_type": "stream",
     "text": [
      "Dataset Overview:\n",
      "   Age Attrition     BusinessTravel  DailyRate              Department  \\\n",
      "0   41       Yes      Travel_Rarely       1102                   Sales   \n",
      "1   49        No  Travel_Frequently        279  Research & Development   \n",
      "2   37       Yes      Travel_Rarely       1373  Research & Development   \n",
      "3   33        No  Travel_Frequently       1392  Research & Development   \n",
      "4   27        No      Travel_Rarely        591  Research & Development   \n",
      "\n",
      "   DistanceFromHome  Education EducationField  EmployeeCount  EmployeeNumber  \\\n",
      "0                 1          2  Life Sciences              1               1   \n",
      "1                 8          1  Life Sciences              1               2   \n",
      "2                 2          2          Other              1               4   \n",
      "3                 3          4  Life Sciences              1               5   \n",
      "4                 2          1        Medical              1               7   \n",
      "\n",
      "   ...  RelationshipSatisfaction StandardHours  StockOptionLevel  \\\n",
      "0  ...                         1            80                 0   \n",
      "1  ...                         4            80                 1   \n",
      "2  ...                         2            80                 0   \n",
      "3  ...                         3            80                 0   \n",
      "4  ...                         4            80                 1   \n",
      "\n",
      "   TotalWorkingYears  TrainingTimesLastYear WorkLifeBalance  YearsAtCompany  \\\n",
      "0                  8                      0               1               6   \n",
      "1                 10                      3               3              10   \n",
      "2                  7                      3               3               0   \n",
      "3                  8                      3               3               8   \n",
      "4                  6                      3               3               2   \n",
      "\n",
      "  YearsInCurrentRole  YearsSinceLastPromotion  YearsWithCurrManager  \n",
      "0                  4                        0                     5  \n",
      "1                  7                        1                     7  \n",
      "2                  0                        0                     0  \n",
      "3                  7                        3                     0  \n",
      "4                  2                        2                     2  \n",
      "\n",
      "[5 rows x 35 columns]\n"
     ]
    }
   ],
   "source": [
    "import pandas as pd\n",
    "\n",
    "# Step 1: Load the dataset\n",
    "file_path = 'greendestination.csv'\n",
    "data = pd.read_csv(file_path)\n",
    "\n",
    "# Step 2: Data Exploration\n",
    "# Display the first few rows to understand the structure of the data\n",
    "print(\"Dataset Overview:\")\n",
    "print(data.head())\n",
    "\n"
   ]
  },
  {
   "cell_type": "code",
   "execution_count": 7,
   "id": "063aeedf-89c1-41fb-8b98-76a87b805ddb",
   "metadata": {},
   "outputs": [
    {
     "name": "stdout",
     "output_type": "stream",
     "text": [
      "\n",
      "Missing Values:\n",
      "Age                         0\n",
      "Attrition                   0\n",
      "BusinessTravel              0\n",
      "DailyRate                   0\n",
      "Department                  0\n",
      "DistanceFromHome            0\n",
      "Education                   0\n",
      "EducationField              0\n",
      "EmployeeCount               0\n",
      "EmployeeNumber              0\n",
      "EnvironmentSatisfaction     0\n",
      "Gender                      0\n",
      "HourlyRate                  0\n",
      "JobInvolvement              0\n",
      "JobLevel                    0\n",
      "JobRole                     0\n",
      "JobSatisfaction             0\n",
      "MaritalStatus               0\n",
      "MonthlyIncome               0\n",
      "MonthlyRate                 0\n",
      "NumCompaniesWorked          0\n",
      "Over18                      0\n",
      "OverTime                    0\n",
      "PercentSalaryHike           0\n",
      "PerformanceRating           0\n",
      "RelationshipSatisfaction    0\n",
      "StandardHours               0\n",
      "StockOptionLevel            0\n",
      "TotalWorkingYears           0\n",
      "TrainingTimesLastYear       0\n",
      "WorkLifeBalance             0\n",
      "YearsAtCompany              0\n",
      "YearsInCurrentRole          0\n",
      "YearsSinceLastPromotion     0\n",
      "YearsWithCurrManager        0\n",
      "dtype: int64\n"
     ]
    }
   ],
   "source": [
    "# Check for missing values\n",
    "print(\"\\nMissing Values:\")\n",
    "print(data.isnull().sum())\n",
    "\n",
    "# Ensure the 'Attrition' column exists\n",
    "if 'Attrition' not in data.columns:\n",
    "    raise ValueError(\"The dataset does not contain an 'Attrition' column.\")\n",
    "\n"
   ]
  },
  {
   "cell_type": "code",
   "execution_count": 9,
   "id": "2f01a4e0-37ea-4987-a3ec-d9e36e859b4e",
   "metadata": {},
   "outputs": [],
   "source": [
    "\n",
    "# Step 3: Handle Missing Data (if any)\n",
    "# If there are missing values in the Attrition column, drop them (optional)\n",
    "data = data.dropna(subset=['Attrition'])\n"
   ]
  },
  {
   "cell_type": "code",
   "execution_count": 10,
   "id": "822b889c-9d91-4e83-b0e4-a1d1000593fc",
   "metadata": {},
   "outputs": [],
   "source": [
    "# Step 4: Calculate Attrition Rate\n",
    "# Total number of employees\n",
    "total_employees = len(data)\n",
    "\n",
    "# Number of employees with Attrition = 'Yes'\n",
    "attrition_count = data[data['Attrition'] == 'Yes'].shape[0]\n",
    "\n",
    "# Attrition rate formula\n",
    "attrition_rate = (attrition_count / total_employees) * 100\n",
    "\n"
   ]
  },
  {
   "cell_type": "code",
   "execution_count": 11,
   "id": "63162ebe-a307-4d86-acc6-e5f666d91f57",
   "metadata": {},
   "outputs": [
    {
     "name": "stdout",
     "output_type": "stream",
     "text": [
      "\n",
      "Total Employees: 1470\n",
      "Employees with Attrition (Yes): 237\n",
      "Attrition Rate: 16.12%\n"
     ]
    }
   ],
   "source": [
    "# Step 5: Display Results\n",
    "print(\"\\nTotal Employees:\", total_employees)\n",
    "print(\"Employees with Attrition (Yes):\", attrition_count)\n",
    "print(f\"Attrition Rate: {attrition_rate:.2f}%\")\n",
    "\n"
   ]
  },
  {
   "cell_type": "code",
   "execution_count": 13,
   "id": "729d8d09-275f-4bf6-9458-9ff8f9ff726f",
   "metadata": {},
   "outputs": [
    {
     "name": "stdout",
     "output_type": "stream",
     "text": [
      "\n",
      "Attrition summary saved to /Users/monty/Downloads/attrition_rate_summary.csv\n"
     ]
    }
   ],
   "source": [
    "# Step 6: Save Results to a File (Optional)\n",
    "result = {\n",
    "    \"Total Employees\": total_employees,\n",
    "    \"Employees with Attrition (Yes)\": attrition_count,\n",
    "    \"Attrition Rate (%)\": round(attrition_rate, 2)\n",
    "}\n",
    "\n",
    "# Convert results to a DataFrame and save as a CSV file\n",
    "result_df = pd.DataFrame([result])\n",
    "output_path = 'attrition_rate_summary.csv'\n",
    "result_df.to_csv(output_path, index=False)\n",
    "print(f\"\\nAttrition summary saved to {output_path}\")"
   ]
  },
  {
   "cell_type": "code",
   "execution_count": null,
   "id": "8678305f-33a7-45e3-b25a-fb47a34097ac",
   "metadata": {},
   "outputs": [],
   "source": []
  }
 ],
 "metadata": {
  "kernelspec": {
   "display_name": "Python 3 (ipykernel)",
   "language": "python",
   "name": "python3"
  },
  "language_info": {
   "codemirror_mode": {
    "name": "ipython",
    "version": 3
   },
   "file_extension": ".py",
   "mimetype": "text/x-python",
   "name": "python",
   "nbconvert_exporter": "python",
   "pygments_lexer": "ipython3",
   "version": "3.12.5"
  }
 },
 "nbformat": 4,
 "nbformat_minor": 5
}
